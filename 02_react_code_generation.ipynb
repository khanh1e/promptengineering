{
 "cells": [
  {
   "cell_type": "markdown",
   "id": "1fe5f9f6",
   "metadata": {},
   "source": [
    "# 2) Code Generation with ReACT Prompting\n",
    "\n",
    "**Goal:** Generate Python code using reasoning before execution (ReACT pattern: Reason → Act → Observe).\n",
    "\n",
    "**What this notebook shows:**\n",
    "- A compact ReACT-style loop that creates a plan, emits code, executes it, and validates the result.\n",
    "- Deterministic behavior (no external API)."
   ]
  },
  {
   "cell_type": "markdown",
   "id": "b99161d7",
   "metadata": {},
   "source": [
    "### Task\n",
    "Implement a function `top_k_frequent(nums, k)` that returns the `k` most frequent elements in a list.\n",
    "\n",
    "We'll craft a reasoning string (the 'Thought') and then an Action that emits Python code."
   ]
  },
  {
   "cell_type": "code",
   "execution_count": 1,
   "id": "91a601ae",
   "metadata": {
    "execution": {
     "iopub.execute_input": "2025-10-07T23:59:09.789978Z",
     "iopub.status.busy": "2025-10-07T23:59:09.789606Z",
     "iopub.status.idle": "2025-10-07T23:59:09.804087Z",
     "shell.execute_reply": "2025-10-07T23:59:09.803228Z"
    }
   },
   "outputs": [
    {
     "name": "stdout",
     "output_type": "stream",
     "text": [
      "=== THOUGHT ===\n",
      "Thought:\n",
      "I will solve \"Return the k most frequent elements of a list.\" by counting frequencies with a dictionary, then sorting by count descending.\n",
      "I'll return the first k elements' values, not pairs.\n",
      "Complexity: O(n log n) due to sorting.\n",
      "\n",
      "=== GENERATED CODE ===\n",
      "def top_k_frequent(nums, k):\n",
      "    from collections import Counter\n",
      "    counts = Counter(nums)\n",
      "    # sort by frequency desc, then by value for stable tie-breaks\n",
      "    pairs = sorted(counts.items(), key=lambda x: (-x[1], x[0]))\n",
      "    return [v for v,_ in pairs[:k]]\n",
      "\n",
      "=== TESTS ===\n",
      "input=([1, 1, 1, 2, 2, 3], 2) -> got=[1, 2] expected=[1, 2] ✓\n",
      "input=(['a', 'b', 'a', 'c', 'b', 'a'], 1) -> got=['a'] expected=['a'] ✓\n",
      "input=([3, 3, 2, 2, 2, 1], 2) -> got=[2, 3] expected=[2, 3] ✓\n"
     ]
    }
   ],
   "source": [
    "\n",
    "from typing import Tuple\n",
    "import textwrap\n",
    "\n",
    "def react_generate(task: str) -> Tuple[str, str]:\n",
    "    \"\"\"\n",
    "    Returns (thought, code_str) deterministically for the given task.\n",
    "    \"\"\"\n",
    "    thought = textwrap.dedent(f\"\"\"\n",
    "    Thought:\n",
    "    I will solve \"{task}\" by counting frequencies with a dictionary, then sorting by count descending.\n",
    "    I'll return the first k elements' values, not pairs.\n",
    "    Complexity: O(n log n) due to sorting.\n",
    "    \"\"\").strip()\n",
    "    code = textwrap.dedent(\"\"\"\n",
    "    def top_k_frequent(nums, k):\n",
    "        from collections import Counter\n",
    "        counts = Counter(nums)\n",
    "        # sort by frequency desc, then by value for stable tie-breaks\n",
    "        pairs = sorted(counts.items(), key=lambda x: (-x[1], x[0]))\n",
    "        return [v for v,_ in pairs[:k]]\n",
    "    \"\"\").strip()\n",
    "    return thought, code\n",
    "\n",
    "TASK = \"Return the k most frequent elements of a list.\"\n",
    "thought, code_str = react_generate(TASK)\n",
    "\n",
    "print(\"=== THOUGHT ===\")\n",
    "print(thought)\n",
    "print(\"\\n=== GENERATED CODE ===\")\n",
    "print(code_str)\n",
    "\n",
    "# Execute the generated code in a clean namespace\n",
    "ns = {}\n",
    "exec(code_str, ns, ns)\n",
    "\n",
    "# Quick tests\n",
    "tests = [\n",
    "    (([1,1,1,2,2,3], 2), [1,2]),\n",
    "    (([\"a\",\"b\",\"a\",\"c\",\"b\",\"a\"], 1), [\"a\"]),\n",
    "    (([3,3,2,2,2,1], 2), [2,3]),\n",
    "]\n",
    "\n",
    "print(\"\\n=== TESTS ===\")\n",
    "for (args, expected) in tests:\n",
    "    got = ns[\"top_k_frequent\"](*args)\n",
    "    print(f\"input={args} -> got={got} expected={expected} ✓\" if got==expected else f\"✗ got={got}, expected={expected}\")\n"
   ]
  }
 ],
 "metadata": {
  "language_info": {
   "codemirror_mode": {
    "name": "ipython",
    "version": 3
   },
   "file_extension": ".py",
   "mimetype": "text/x-python",
   "name": "python",
   "nbconvert_exporter": "python",
   "pygments_lexer": "ipython3",
   "version": "3.11.8"
  }
 },
 "nbformat": 4,
 "nbformat_minor": 5
}

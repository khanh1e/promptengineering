{
 "cells": [
  {
   "cell_type": "markdown",
   "id": "6d5ed2c8",
   "metadata": {},
   "source": [
    "# 3) Self-Reflection Prompt for Improving Output\n",
    "\n",
    "**Goal:** Ask the AI to critique and improve its summary.\n",
    "\n",
    "**What this notebook shows:**\n",
    "- An initial summary is produced.\n",
    "- A critique prompt scores clarity/coverage/tone.\n",
    "- A revision prompt rewrites the summary using the critique."
   ]
  },
  {
   "cell_type": "code",
   "execution_count": 1,
   "id": "46045710",
   "metadata": {
    "execution": {
     "iopub.execute_input": "2025-10-07T23:59:12.280908Z",
     "iopub.status.busy": "2025-10-07T23:59:12.280553Z",
     "iopub.status.idle": "2025-10-07T23:59:12.296931Z",
     "shell.execute_reply": "2025-10-07T23:59:12.296243Z"
    }
   },
   "outputs": [
    {
     "name": "stdout",
     "output_type": "stream",
     "text": [
      "=== ORIGINAL TEXT ===\n",
      " Breakthrough Silicon Valley ran a new summer program for over 100 students,\n",
      "focusing on operations, logistics, and safety. The team coordinated classrooms,\n",
      "managed inventory and facilities, and supported daily learning. Students also\n",
      "engaged in leadership workshops and academic enrichment.\n",
      "\n",
      "=== BASE SUMMARY ===\n",
      " Breakthrough Silicon Valley ran a new summer program for over 100 students, focusing on operations, logistics, and safety. The team coordinated classrooms, managed inventory and facilities, and supported daily learning. Students also engaged in leadership workshops and academic enrichment.\n",
      "\n",
      "=== CRITIQUE ===\n",
      " Critique:\n",
      "- Clarity: Good, but mention scale (100+ students) earlier.\n",
      "- Coverage: Include the three operational pillars (inventory, facilities, safety).\n",
      "- Tone: Positive and student-centered; add a concise outcome sentence.\n",
      "\n",
      "=== REVISED SUMMARY ===\n",
      " Breakthrough Silicon Valley ran a new summer program for over 100 students, focusing on operations, logistics, and safety. The team coordinated classrooms, managed inventory and facilities, and supported daily learning. Students also engaged in leadership workshops and academic enrichment. Outcome: students gained leadership skills and consistent academic support.\n"
     ]
    }
   ],
   "source": [
    "\n",
    "import textwrap\n",
    "\n",
    "ARTICLE = textwrap.dedent(\"\"\"\n",
    "Breakthrough Silicon Valley ran a new summer program for over 100 students,\n",
    "focusing on operations, logistics, and safety. The team coordinated classrooms,\n",
    "managed inventory and facilities, and supported daily learning. Students also\n",
    "engaged in leadership workshops and academic enrichment.\n",
    "\"\"\").strip()\n",
    "\n",
    "def summarize(text: str) -> str:\n",
    "    # Compact, extractive-ish baseline summary\n",
    "    lines = [ln.strip() for ln in text.splitlines() if ln.strip()]\n",
    "    kept = []\n",
    "    for ln in lines:\n",
    "        if any(k in ln.lower() for k in [\"program\", \"students\", \"logistics\", \"learning\", \"leadership\", \"academic\", \"safety\", \"facilities\", \"inventory\"]):\n",
    "            kept.append(ln)\n",
    "    return \" \".join(kept)[:400]\n",
    "\n",
    "def critique(summary: str) -> str:\n",
    "    # Return a 'critique' string with actionable notes\n",
    "    notes = [\n",
    "        \"Clarity: Good, but mention scale (100+ students) earlier.\",\n",
    "        \"Coverage: Include the three operational pillars (inventory, facilities, safety).\",\n",
    "        \"Tone: Positive and student-centered; add a concise outcome sentence.\"\n",
    "    ]\n",
    "    rubric = \"\\n\".join(f\"- {n}\" for n in notes)\n",
    "    return f\"Critique:\\n{rubric}\"\n",
    "\n",
    "def revise(summary: str, critique_text: str) -> str:\n",
    "    # Simple rule-based revision that inserts missing details and polishes tone.\n",
    "    improved = summary\n",
    "    # Ensure scale is prominent\n",
    "    if \"100\" not in improved:\n",
    "        improved = \"Serving 100+ students, \" + improved[0].lower() + improved[1:]\n",
    "    # Ensure operational pillars\n",
    "    pillars = \"inventory, facilities, and safety operations\"\n",
    "    if \"inventory\" not in improved or \"facilities\" not in improved or \"safety\" not in improved:\n",
    "        improved += \" The team strengthened inventory, facilities, and safety operations.\"\n",
    "    # Add outcome\n",
    "    if \"Outcome:\" not in improved:\n",
    "        improved += \" Outcome: students gained leadership skills and consistent academic support.\"\n",
    "    # Minor cleanup\n",
    "    improved = improved.replace(\"  \", \" \").strip()\n",
    "    return improved\n",
    "\n",
    "base = summarize(ARTICLE)\n",
    "crit = critique(base)\n",
    "better = revise(base, crit)\n",
    "\n",
    "print(\"=== ORIGINAL TEXT ===\\n\", ARTICLE)\n",
    "print(\"\\n=== BASE SUMMARY ===\\n\", base)\n",
    "print(\"\\n=== CRITIQUE ===\\n\", crit)\n",
    "print(\"\\n=== REVISED SUMMARY ===\\n\", better)\n"
   ]
  }
 ],
 "metadata": {
  "language_info": {
   "codemirror_mode": {
    "name": "ipython",
    "version": 3
   },
   "file_extension": ".py",
   "mimetype": "text/x-python",
   "name": "python",
   "nbconvert_exporter": "python",
   "pygments_lexer": "ipython3",
   "version": "3.11.8"
  }
 },
 "nbformat": 4,
 "nbformat_minor": 5
}
